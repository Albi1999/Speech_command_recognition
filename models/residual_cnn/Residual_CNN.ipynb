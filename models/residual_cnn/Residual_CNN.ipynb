{
 "cells": [
  {
   "cell_type": "code",
   "execution_count": 1,
   "metadata": {
    "executionInfo": {
     "elapsed": 7361,
     "status": "ok",
     "timestamp": 1743698172768,
     "user": {
      "displayName": "Alberto Calabrese",
      "userId": "18435567927630681078"
     },
     "user_tz": -120
    },
    "id": "4NzwvClX6klQ"
   },
   "outputs": [],
   "source": [
    "import tensorflow as tf\n",
    "import numpy as np\n",
    "import os\n",
    "import librosa\n",
    "import matplotlib.pyplot as plt\n",
    "from tqdm import tqdm\n",
    "from collections import defaultdict\n",
    "from tensorflow.keras import layers, models\n",
    "import pickle"
   ]
  },
  {
   "cell_type": "code",
   "execution_count": 2,
   "metadata": {
    "colab": {
     "base_uri": "https://localhost:8080/"
    },
    "executionInfo": {
     "elapsed": 1390,
     "status": "ok",
     "timestamp": 1743698174178,
     "user": {
      "displayName": "Alberto Calabrese",
      "userId": "18435567927630681078"
     },
     "user_tz": -120
    },
    "id": "Z_2CRzYY6dMJ",
    "outputId": "73516d92-990a-4083-d773-d64425e38e2b"
   },
   "outputs": [
    {
     "name": "stdout",
     "output_type": "stream",
     "text": [
      "GPU detected: /device:GPU:0\n"
     ]
    }
   ],
   "source": [
    "device_name = tf.test.gpu_device_name()\n",
    "if device_name:\n",
    "    print(f\"GPU detected: {device_name}\")\n",
    "else:\n",
    "    print(\"GPU not found. Go to Runtime > Change runtime type > GPU\")"
   ]
  },
  {
   "cell_type": "code",
   "execution_count": 3,
   "metadata": {
    "colab": {
     "base_uri": "https://localhost:8080/"
    },
    "executionInfo": {
     "elapsed": 76394,
     "status": "ok",
     "timestamp": 1743698250574,
     "user": {
      "displayName": "Alberto Calabrese",
      "userId": "18435567927630681078"
     },
     "user_tz": -120
    },
    "id": "w1b9ubRL6dZA",
    "outputId": "3d173e19-7dbc-489b-ec9b-1e2263c91d93"
   },
   "outputs": [
    {
     "name": "stdout",
     "output_type": "stream",
     "text": [
      "Mounted at /content/drive\n"
     ]
    }
   ],
   "source": [
    "from google.colab import drive\n",
    "drive.mount('/content/drive')"
   ]
  },
  {
   "cell_type": "code",
   "execution_count": 4,
   "metadata": {
    "executionInfo": {
     "elapsed": 46586,
     "status": "ok",
     "timestamp": 1743698297156,
     "user": {
      "displayName": "Alberto Calabrese",
      "userId": "18435567927630681078"
     },
     "user_tz": -120
    },
    "id": "9bZmUffHflOr"
   },
   "outputs": [],
   "source": [
    "!unzip -q \"/content/drive/MyDrive/MLHD_Project/Data/processed_dataset.zip\" -d \"/content\""
   ]
  },
  {
   "cell_type": "code",
   "execution_count": 5,
   "metadata": {
    "executionInfo": {
     "elapsed": 2964,
     "status": "ok",
     "timestamp": 1743698300132,
     "user": {
      "displayName": "Alberto Calabrese",
      "userId": "18435567927630681078"
     },
     "user_tz": -120
    },
    "id": "sIXIMIJB6dmh"
   },
   "outputs": [],
   "source": [
    "PROJECT_DIR = \"/content/drive/MyDrive/MLHD_Project\"\n",
    "PROCESSED_DATA_DIR = \"/content/processed_dataset\"\n",
    "\n",
    "with open(PROJECT_DIR + \"/Data/class_weights.pkl\", \"rb\") as f:\n",
    "    class_weights = pickle.load(f)\n",
    "\n",
    "with open(PROJECT_DIR + \"/Data/label_to_index.pkl\", \"rb\") as f:\n",
    "    label_to_index = pickle.load(f)\n",
    "\n",
    "with open(PROJECT_DIR + \"/Data/index_to_label.pkl\", \"rb\") as f:\n",
    "    index_to_label = pickle.load(f)"
   ]
  },
  {
   "cell_type": "code",
   "execution_count": 6,
   "metadata": {
    "executionInfo": {
     "elapsed": 3,
     "status": "ok",
     "timestamp": 1743698300138,
     "user": {
      "displayName": "Alberto Calabrese",
      "userId": "18435567927630681078"
     },
     "user_tz": -120
    },
    "id": "Lron435tp88W"
   },
   "outputs": [],
   "source": [
    "def load_dataset(split_path, label_to_index, input_shape=(40, 101), shuffle=True):\n",
    "    data = []\n",
    "    labels = []\n",
    "\n",
    "    for label in os.listdir(split_path):\n",
    "        label_path = os.path.join(split_path, label)\n",
    "        if not os.path.isdir(label_path):\n",
    "            continue\n",
    "\n",
    "        for fname in os.listdir(label_path):\n",
    "            if not fname.endswith(\".npy\"):\n",
    "                continue\n",
    "\n",
    "            file_path = os.path.join(label_path, fname)\n",
    "            spectrogram = np.load(file_path).astype(np.float32)\n",
    "\n",
    "            # Ensure shape matches\n",
    "            if spectrogram.shape != input_shape:\n",
    "                print(f\"Skipping {file_path} due to shape mismatch: {spectrogram.shape}\")\n",
    "                continue\n",
    "\n",
    "            data.append(spectrogram)\n",
    "            labels.append(label_to_index[label])\n",
    "\n",
    "    data = np.array(data)[..., np.newaxis]  # Add channel dim\n",
    "    labels = np.array(labels)\n",
    "\n",
    "    dataset = tf.data.Dataset.from_tensor_slices((data, labels))\n",
    "    if shuffle:\n",
    "        dataset = dataset.shuffle(buffer_size=len(data))\n",
    "\n",
    "    return dataset"
   ]
  },
  {
   "cell_type": "code",
   "execution_count": 7,
   "metadata": {
    "executionInfo": {
     "elapsed": 26410,
     "status": "ok",
     "timestamp": 1743698326547,
     "user": {
      "displayName": "Alberto Calabrese",
      "userId": "18435567927630681078"
     },
     "user_tz": -120
    },
    "id": "W27_Kn686dzZ"
   },
   "outputs": [],
   "source": [
    "train_ds = load_dataset(os.path.join(PROCESSED_DATA_DIR, \"train\"), label_to_index)\n",
    "val_ds = load_dataset(os.path.join(PROCESSED_DATA_DIR, \"val\"), label_to_index, shuffle=False)\n",
    "test_ds = load_dataset(os.path.join(PROCESSED_DATA_DIR, \"test\"), label_to_index, shuffle=False)\n",
    "\n",
    "BATCH_SIZE = 16\n",
    "train_ds = train_ds.batch(BATCH_SIZE).prefetch(tf.data.AUTOTUNE)\n",
    "val_ds = val_ds.batch(BATCH_SIZE).prefetch(tf.data.AUTOTUNE)\n",
    "test_ds = test_ds.batch(BATCH_SIZE).prefetch(tf.data.AUTOTUNE)"
   ]
  },
  {
   "cell_type": "code",
   "execution_count": 8,
   "metadata": {
    "executionInfo": {
     "elapsed": 2,
     "status": "ok",
     "timestamp": 1743698326551,
     "user": {
      "displayName": "Alberto Calabrese",
      "userId": "18435567927630681078"
     },
     "user_tz": -120
    },
    "id": "Qx2s6XN87KVS"
   },
   "outputs": [],
   "source": [
    "class ResidualCNN:\n",
    "    def __init__(self, input_shape=(40, 101, 1), num_classes=len(label_to_index)):\n",
    "        self.input_shape = input_shape\n",
    "        self.num_classes = num_classes\n",
    "        self.model = self._build_model()\n",
    "\n",
    "    def _res_block(self, x, filters, stride=1):\n",
    "        shortcut = x\n",
    "\n",
    "        # First convolutional layer\n",
    "        x = layers.Conv2D(filters, kernel_size=3, strides=stride, padding='same')(x)\n",
    "        x = layers.BatchNormalization()(x)\n",
    "        x = layers.ReLU()(x)\n",
    "\n",
    "        # Second convolutional layer\n",
    "        x = layers.Conv2D(filters, kernel_size=3, strides=1, padding='same')(x)\n",
    "        x = layers.BatchNormalization()(x)\n",
    "\n",
    "        # Shortcut connection\n",
    "        if stride != 1 or shortcut.shape[-1] != filters:\n",
    "            shortcut = layers.Conv2D(filters, kernel_size=1, strides=stride, padding='same')(shortcut)\n",
    "            shortcut = layers.BatchNormalization()(shortcut)\n",
    "\n",
    "        x = layers.add([x, shortcut])\n",
    "        x = layers.ReLU()(x)\n",
    "        return x\n",
    "\n",
    "    def _build_model(self):\n",
    "        inputs = layers.Input(shape=self.input_shape)\n",
    "\n",
    "        x = layers.Conv2D(32, kernel_size=3, strides=1, padding='same')(inputs)\n",
    "        x = layers.BatchNormalization()(x)\n",
    "        x = layers.ReLU()(x)\n",
    "\n",
    "        # Residual blocks\n",
    "        x = self._res_block(x, 32)\n",
    "        x = self._res_block(x, 64, stride=2)\n",
    "        x = self._res_block(x, 128, stride=2)\n",
    "\n",
    "        x = layers.GlobalAveragePooling2D()(x)\n",
    "        x = layers.Dropout(0.3)(x)\n",
    "        outputs = layers.Dense(self.num_classes, activation='softmax')(x)\n",
    "\n",
    "        model = models.Model(inputs, outputs)\n",
    "        return model\n",
    "\n",
    "    def compile(self, optimizer='adam', loss='sparse_categorical_crossentropy', metrics=['accuracy']):\n",
    "        self.model.compile(optimizer=optimizer, loss=loss, metrics=metrics)\n",
    "\n",
    "    def get_model(self):\n",
    "        return self.model"
   ]
  },
  {
   "cell_type": "code",
   "execution_count": 9,
   "metadata": {
    "colab": {
     "base_uri": "https://localhost:8080/"
    },
    "executionInfo": {
     "elapsed": 1596951,
     "status": "ok",
     "timestamp": 1743699923503,
     "user": {
      "displayName": "Alberto Calabrese",
      "userId": "18435567927630681078"
     },
     "user_tz": -120
    },
    "id": "-_uLgXAZ7Stw",
    "outputId": "d5b9c76b-e108-4936-a0ab-3b45bf676884"
   },
   "outputs": [
    {
     "name": "stdout",
     "output_type": "stream",
     "text": [
      "Epoch 1/20\n",
      "\u001b[1m5303/5303\u001b[0m \u001b[32m━━━━━━━━━━━━━━━━━━━━\u001b[0m\u001b[37m\u001b[0m \u001b[1m92s\u001b[0m 14ms/step - accuracy: 0.4035 - loss: 2.1819 - val_accuracy: 0.8233 - val_loss: 0.6177\n",
      "Epoch 2/20\n",
      "\u001b[1m5303/5303\u001b[0m \u001b[32m━━━━━━━━━━━━━━━━━━━━\u001b[0m\u001b[37m\u001b[0m \u001b[1m126s\u001b[0m 13ms/step - accuracy: 0.8363 - loss: 0.5743 - val_accuracy: 0.9033 - val_loss: 0.3583\n",
      "Epoch 3/20\n",
      "\u001b[1m5303/5303\u001b[0m \u001b[32m━━━━━━━━━━━━━━━━━━━━\u001b[0m\u001b[37m\u001b[0m \u001b[1m69s\u001b[0m 13ms/step - accuracy: 0.8829 - loss: 0.4061 - val_accuracy: 0.8897 - val_loss: 0.3722\n",
      "Epoch 4/20\n",
      "\u001b[1m5303/5303\u001b[0m \u001b[32m━━━━━━━━━━━━━━━━━━━━\u001b[0m\u001b[37m\u001b[0m \u001b[1m69s\u001b[0m 13ms/step - accuracy: 0.9019 - loss: 0.3415 - val_accuracy: 0.9055 - val_loss: 0.3118\n",
      "Epoch 5/20\n",
      "\u001b[1m5303/5303\u001b[0m \u001b[32m━━━━━━━━━━━━━━━━━━━━\u001b[0m\u001b[37m\u001b[0m \u001b[1m82s\u001b[0m 13ms/step - accuracy: 0.9141 - loss: 0.2937 - val_accuracy: 0.9059 - val_loss: 0.3233\n",
      "Epoch 6/20\n",
      "\u001b[1m5303/5303\u001b[0m \u001b[32m━━━━━━━━━━━━━━━━━━━━\u001b[0m\u001b[37m\u001b[0m \u001b[1m68s\u001b[0m 13ms/step - accuracy: 0.9224 - loss: 0.2673 - val_accuracy: 0.9366 - val_loss: 0.2110\n",
      "Epoch 7/20\n",
      "\u001b[1m5303/5303\u001b[0m \u001b[32m━━━━━━━━━━━━━━━━━━━━\u001b[0m\u001b[37m\u001b[0m \u001b[1m81s\u001b[0m 13ms/step - accuracy: 0.9286 - loss: 0.2463 - val_accuracy: 0.9436 - val_loss: 0.1963\n",
      "Epoch 8/20\n",
      "\u001b[1m5303/5303\u001b[0m \u001b[32m━━━━━━━━━━━━━━━━━━━━\u001b[0m\u001b[37m\u001b[0m \u001b[1m68s\u001b[0m 13ms/step - accuracy: 0.9340 - loss: 0.2221 - val_accuracy: 0.9495 - val_loss: 0.1769\n",
      "Epoch 9/20\n",
      "\u001b[1m5303/5303\u001b[0m \u001b[32m━━━━━━━━━━━━━━━━━━━━\u001b[0m\u001b[37m\u001b[0m \u001b[1m81s\u001b[0m 13ms/step - accuracy: 0.9365 - loss: 0.2081 - val_accuracy: 0.9428 - val_loss: 0.1953\n",
      "Epoch 10/20\n",
      "\u001b[1m5303/5303\u001b[0m \u001b[32m━━━━━━━━━━━━━━━━━━━━\u001b[0m\u001b[37m\u001b[0m \u001b[1m82s\u001b[0m 13ms/step - accuracy: 0.9426 - loss: 0.1903 - val_accuracy: 0.9443 - val_loss: 0.1872\n",
      "Epoch 11/20\n",
      "\u001b[1m5303/5303\u001b[0m \u001b[32m━━━━━━━━━━━━━━━━━━━━\u001b[0m\u001b[37m\u001b[0m \u001b[1m81s\u001b[0m 13ms/step - accuracy: 0.9470 - loss: 0.1768 - val_accuracy: 0.9461 - val_loss: 0.1856\n",
      "Epoch 12/20\n",
      "\u001b[1m5303/5303\u001b[0m \u001b[32m━━━━━━━━━━━━━━━━━━━━\u001b[0m\u001b[37m\u001b[0m \u001b[1m67s\u001b[0m 13ms/step - accuracy: 0.9488 - loss: 0.1683 - val_accuracy: 0.9457 - val_loss: 0.1851\n",
      "Epoch 13/20\n",
      "\u001b[1m5303/5303\u001b[0m \u001b[32m━━━━━━━━━━━━━━━━━━━━\u001b[0m\u001b[37m\u001b[0m \u001b[1m85s\u001b[0m 13ms/step - accuracy: 0.9523 - loss: 0.1541 - val_accuracy: 0.9450 - val_loss: 0.1943\n",
      "Epoch 14/20\n",
      "\u001b[1m5303/5303\u001b[0m \u001b[32m━━━━━━━━━━━━━━━━━━━━\u001b[0m\u001b[37m\u001b[0m \u001b[1m79s\u001b[0m 13ms/step - accuracy: 0.9525 - loss: 0.1528 - val_accuracy: 0.9500 - val_loss: 0.1860\n",
      "Epoch 15/20\n",
      "\u001b[1m5303/5303\u001b[0m \u001b[32m━━━━━━━━━━━━━━━━━━━━\u001b[0m\u001b[37m\u001b[0m \u001b[1m81s\u001b[0m 13ms/step - accuracy: 0.9562 - loss: 0.1396 - val_accuracy: 0.9494 - val_loss: 0.1763\n",
      "Epoch 16/20\n",
      "\u001b[1m5303/5303\u001b[0m \u001b[32m━━━━━━━━━━━━━━━━━━━━\u001b[0m\u001b[37m\u001b[0m \u001b[1m86s\u001b[0m 13ms/step - accuracy: 0.9580 - loss: 0.1361 - val_accuracy: 0.9518 - val_loss: 0.1719\n",
      "Epoch 17/20\n",
      "\u001b[1m5303/5303\u001b[0m \u001b[32m━━━━━━━━━━━━━━━━━━━━\u001b[0m\u001b[37m\u001b[0m \u001b[1m78s\u001b[0m 13ms/step - accuracy: 0.9605 - loss: 0.1263 - val_accuracy: 0.9345 - val_loss: 0.2290\n",
      "Epoch 18/20\n",
      "\u001b[1m5303/5303\u001b[0m \u001b[32m━━━━━━━━━━━━━━━━━━━━\u001b[0m\u001b[37m\u001b[0m \u001b[1m82s\u001b[0m 13ms/step - accuracy: 0.9620 - loss: 0.1224 - val_accuracy: 0.9506 - val_loss: 0.1695\n",
      "Epoch 19/20\n",
      "\u001b[1m5303/5303\u001b[0m \u001b[32m━━━━━━━━━━━━━━━━━━━━\u001b[0m\u001b[37m\u001b[0m \u001b[1m68s\u001b[0m 13ms/step - accuracy: 0.9631 - loss: 0.1191 - val_accuracy: 0.9495 - val_loss: 0.1841\n",
      "Epoch 20/20\n",
      "\u001b[1m5303/5303\u001b[0m \u001b[32m━━━━━━━━━━━━━━━━━━━━\u001b[0m\u001b[37m\u001b[0m \u001b[1m70s\u001b[0m 13ms/step - accuracy: 0.9668 - loss: 0.1087 - val_accuracy: 0.9507 - val_loss: 0.1791\n"
     ]
    }
   ],
   "source": [
    "residual_cnn = ResidualCNN(input_shape=(40, 101, 1), num_classes=len(label_to_index))\n",
    "residual_cnn.compile()\n",
    "model = residual_cnn.get_model()\n",
    "history = model.fit(\n",
    "    train_ds,\n",
    "    validation_data=val_ds,\n",
    "    epochs=20,\n",
    "    class_weight=class_weights\n",
    ")"
   ]
  },
  {
   "cell_type": "code",
   "execution_count": 10,
   "metadata": {
    "colab": {
     "base_uri": "https://localhost:8080/"
    },
    "executionInfo": {
     "elapsed": 3228,
     "status": "ok",
     "timestamp": 1743699926737,
     "user": {
      "displayName": "Alberto Calabrese",
      "userId": "18435567927630681078"
     },
     "user_tz": -120
    },
    "id": "5uZR5bxm7S7B",
    "outputId": "9d5a5c2f-f8ba-4e3e-e0db-3383dd67989f"
   },
   "outputs": [
    {
     "name": "stdout",
     "output_type": "stream",
     "text": [
      "\u001b[1m688/688\u001b[0m \u001b[32m━━━━━━━━━━━━━━━━━━━━\u001b[0m\u001b[37m\u001b[0m \u001b[1m3s\u001b[0m 4ms/step - accuracy: 0.9549 - loss: 0.1590\n",
      "\n",
      "Test accuracy: 0.9521\n",
      "Test loss: 0.1736\n"
     ]
    }
   ],
   "source": [
    "test_loss, test_acc = model.evaluate(test_ds)\n",
    "print(f\"\\nTest accuracy: {test_acc:.4f}\")\n",
    "print(f\"Test loss: {test_loss:.4f}\")"
   ]
  },
  {
   "cell_type": "code",
   "execution_count": 11,
   "metadata": {
    "colab": {
     "base_uri": "https://localhost:8080/",
     "height": 507
    },
    "executionInfo": {
     "elapsed": 956,
     "status": "ok",
     "timestamp": 1743699927695,
     "user": {
      "displayName": "Alberto Calabrese",
      "userId": "18435567927630681078"
     },
     "user_tz": -120
    },
    "id": "7SFSxtE8ux4r",
    "outputId": "21419863-7bcd-4fd9-b363-736c66fd1716"
   },
   "outputs": [
    {
     "data": {
      "image/png": "[encoded data removed]",
      "text/plain": [
       "<Figure size 800x500 with 1 Axes>"
      ]
     },
     "metadata": {},
     "output_type": "display_data"
    }
   ],
   "source": [
    "history_dict = history.history\n",
    "plt.figure(figsize=(8, 5))\n",
    "plt.plot(history_dict['accuracy'], label='Training Accuracy')\n",
    "plt.plot(history_dict['val_accuracy'], label='Validation Accuracy')\n",
    "plt.title('Residual CNN Accuracy')\n",
    "plt.xlabel('Epoch')\n",
    "plt.ylabel('Accuracy')\n",
    "plt.legend()\n",
    "plt.grid(True)\n",
    "plt.tight_layout()\n",
    "plt.savefig(\"/content/drive/MyDrive/MLHD_Project/residual_cnn_accuracy.png\")\n",
    "plt.show()"
   ]
  },
  {
   "cell_type": "code",
   "execution_count": 12,
   "metadata": {
    "colab": {
     "base_uri": "https://localhost:8080/",
     "height": 507
    },
    "executionInfo": {
     "elapsed": 274,
     "status": "ok",
     "timestamp": 1743699927970,
     "user": {
      "displayName": "Alberto Calabrese",
      "userId": "18435567927630681078"
     },
     "user_tz": -120
    },
    "id": "1Hkz2g5j7pBw",
    "outputId": "21c4d5b9-e8d0-4353-cd1f-6b9d56db3936"
   },
   "outputs": [
    {
     "data": {
      "image/png": "[encoded data removed]",
      "text/plain": [
       "<Figure size 800x500 with 1 Axes>"
      ]
     },
     "metadata": {},
     "output_type": "display_data"
    }
   ],
   "source": [
    "plt.figure(figsize=(8, 5))\n",
    "plt.plot(history_dict['loss'], label='Training Loss')\n",
    "plt.plot(history_dict['val_loss'], label='Validation Loss')\n",
    "plt.title('Residual CNN Loss')\n",
    "plt.xlabel('Epoch')\n",
    "plt.ylabel('Loss')\n",
    "plt.legend()\n",
    "plt.grid(True)\n",
    "plt.tight_layout()\n",
    "plt.savefig(\"/content/drive/MyDrive/MLHD_Project/residual_cnn_loss.png\")\n",
    "plt.show()"
   ]
  },
  {
   "cell_type": "code",
   "execution_count": 13,
   "metadata": {
    "colab": {
     "base_uri": "https://localhost:8080/"
    },
    "executionInfo": {
     "elapsed": 2218,
     "status": "ok",
     "timestamp": 1743699930187,
     "user": {
      "displayName": "Alberto Calabrese",
      "userId": "18435567927630681078"
     },
     "user_tz": -120
    },
    "id": "52uAaOYS7Zp5",
    "outputId": "a6935990-c055-47a9-d0bc-aceb92b7cc3c"
   },
   "outputs": [
    {
     "name": "stdout",
     "output_type": "stream",
     "text": [
      "\u001b[1m624/624\u001b[0m \u001b[32m━━━━━━━━━━━━━━━━━━━━\u001b[0m\u001b[37m\u001b[0m \u001b[1m3s\u001b[0m 4ms/step - accuracy: 0.9498 - loss: 0.1906\n",
      "\n",
      "Validation accuracy: 0.9507\n",
      "Validation loss: 0.1791\n"
     ]
    }
   ],
   "source": [
    "val_loss, val_acc = model.evaluate(val_ds)\n",
    "print(f\"\\nValidation accuracy: {val_acc:.4f}\")\n",
    "print(f\"Validation loss: {val_loss:.4f}\")"
   ]
  },
  {
   "cell_type": "code",
   "execution_count": 14,
   "metadata": {
    "executionInfo": {
     "elapsed": 234,
     "status": "ok",
     "timestamp": 1743699930422,
     "user": {
      "displayName": "Alberto Calabrese",
      "userId": "18435567927630681078"
     },
     "user_tz": -120
    },
    "id": "5Sq5WA4W713H"
   },
   "outputs": [],
   "source": [
    "model.save_weights(\"/content/drive/MyDrive/MLHD_Project/residual_cnn.weights.h5\")"
   ]
  },
  {
   "cell_type": "code",
   "execution_count": 15,
   "metadata": {
    "executionInfo": {
     "elapsed": 202,
     "status": "ok",
     "timestamp": 1743699930627,
     "user": {
      "displayName": "Alberto Calabrese",
      "userId": "18435567927630681078"
     },
     "user_tz": -120
    },
    "id": "RRpnmWuo5P_O"
   },
   "outputs": [],
   "source": [
    "model.save(\"/content/drive/MyDrive/MLHD_Project/residual_cnn_model.keras\")"
   ]
  }
 ],
 "metadata": {
  "accelerator": "GPU",
  "colab": {
   "gpuType": "T4",
   "provenance": []
  },
  "kernelspec": {
   "display_name": ".venv",
   "language": "python",
   "name": "python3"
  },
  "language_info": {
   "name": "python",
   "version": "3.10.11"
  }
 },
 "nbformat": 4,
 "nbformat_minor": 0
}
